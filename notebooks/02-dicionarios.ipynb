{
 "cells": [
  {
   "cell_type": "markdown",
   "metadata": {},
   "source": [
    "# Dicionários | dict"
   ]
  },
  {
   "cell_type": "markdown",
   "metadata": {},
   "source": [
    "basic [data] types:\n",
    "* strings\n",
    "* numbers (`int`, `float`)\n",
    "* arrays (`tuple`, `list`)\n",
    "* maps/tables (`dict`)"
   ]
  },
  {
   "cell_type": "markdown",
   "metadata": {},
   "source": [
    "on dictionaries:\n",
    "* it's a table of key-value pairs\n",
    "* restrictions:\n",
    "  * **keys** must be _hashable_ [`string`, `number`, `tuple` (of `strings` or `number` or `tuple`)]\n",
    "  * **values** can be anything...\n",
    "    "
   ]
  },
  {
   "cell_type": "code",
   "execution_count": 48,
   "metadata": {},
   "outputs": [
    {
     "data": {
      "text/plain": [
       "{0: 0}"
      ]
     },
     "execution_count": 48,
     "metadata": {},
     "output_type": "execute_result"
    }
   ],
   "source": [
    "d1 = {0: 0}\n",
    "d1"
   ]
  },
  {
   "cell_type": "code",
   "execution_count": 49,
   "metadata": {},
   "outputs": [
    {
     "data": {
      "text/plain": [
       "{'a': 0}"
      ]
     },
     "execution_count": 49,
     "metadata": {},
     "output_type": "execute_result"
    }
   ],
   "source": [
    "d2 = {'a': 0}\n",
    "d2"
   ]
  },
  {
   "cell_type": "code",
   "execution_count": 51,
   "metadata": {},
   "outputs": [
    {
     "data": {
      "text/plain": [
       "{(0, 'a'): 0}"
      ]
     },
     "execution_count": 51,
     "metadata": {},
     "output_type": "execute_result"
    }
   ],
   "source": [
    "d3 = {(0, 'a'): 0}\n",
    "d3"
   ]
  },
  {
   "cell_type": "code",
   "execution_count": 52,
   "metadata": {},
   "outputs": [
    {
     "ename": "TypeError",
     "evalue": "unhashable type: 'list'",
     "output_type": "error",
     "traceback": [
      "\u001b[1;31m---------------------------------------------------------------------------\u001b[0m",
      "\u001b[1;31mTypeError\u001b[0m                                 Traceback (most recent call last)",
      "\u001b[1;32mc:\\Users\\frazao\\Coisas\\material\\python_margarida\\aulas-python\\notebooks\\02-dicionarios.ipynb Cell 7\u001b[0m in \u001b[0;36m<cell line: 1>\u001b[1;34m()\u001b[0m\n\u001b[1;32m----> <a href='vscode-notebook-cell:/c%3A/Users/frazao/Coisas/material/python_margarida/aulas-python/notebooks/02-dicionarios.ipynb#X51sZmlsZQ%3D%3D?line=0'>1</a>\u001b[0m dNAO \u001b[39m=\u001b[39m {[\u001b[39m0\u001b[39m]: \u001b[39m0\u001b[39m}\n",
      "\u001b[1;31mTypeError\u001b[0m: unhashable type: 'list'"
     ]
    }
   ],
   "source": [
    "dNAO = {[0]: 0}"
   ]
  },
  {
   "cell_type": "code",
   "execution_count": 55,
   "metadata": {},
   "outputs": [],
   "source": [
    "d4 = {\n",
    "    'portugal': {\n",
    "        'lisboa': [\n",
    "            'penha de frança',\n",
    "            'graça'\n",
    "        ],\n",
    "        'porto': [\n",
    "            'bolhão',\n",
    "            'santana'\n",
    "        ]\n",
    "    },\n",
    "    'inglaterra': {\n",
    "        'londres': [\n",
    "            'whatever1',\n",
    "            'whatever2'\n",
    "        ]\n",
    "    }\n",
    "}"
   ]
  },
  {
   "cell_type": "code",
   "execution_count": 61,
   "metadata": {},
   "outputs": [
    {
     "name": "stdout",
     "output_type": "stream",
     "text": [
      "portugal\n",
      "\t lisboa\n",
      "\t\t 0: penha de frança\n",
      "\t\t 1: graça\n",
      "\t porto\n",
      "\t\t 0: bolhão\n",
      "\t\t 1: santana\n",
      "inglaterra\n",
      "\t londres\n",
      "\t\t 0: whatever1\n",
      "\t\t 1: whatever2\n"
     ]
    }
   ],
   "source": [
    "for country, cities in d4.items():\n",
    "    print(country)\n",
    "    for city, fregs in cities.items():\n",
    "        print(\"\\t\",city)\n",
    "        for number, freg in enumerate(fregs):\n",
    "            print(\"\\t\\t\", f\"{number}: {freg}\")"
   ]
  },
  {
   "cell_type": "code",
   "execution_count": 54,
   "metadata": {},
   "outputs": [
    {
     "data": {
      "text/plain": [
       "{'portugal': {'lisboa': {'penha de frança'}}}"
      ]
     },
     "execution_count": 54,
     "metadata": {},
     "output_type": "execute_result"
    }
   ],
   "source": [
    "d4"
   ]
  },
  {
   "cell_type": "code",
   "execution_count": 9,
   "metadata": {},
   "outputs": [],
   "source": [
    "joana = 27\n",
    "pedro = 30\n",
    "carlota = 50\n"
   ]
  },
  {
   "cell_type": "code",
   "execution_count": 13,
   "metadata": {},
   "outputs": [],
   "source": [
    "pessoas_idades = {\n",
    "    'joana': 27,\n",
    "    'pedro': 30,\n",
    "    'carlota': 50\n",
    "}"
   ]
  },
  {
   "cell_type": "code",
   "execution_count": 15,
   "metadata": {},
   "outputs": [],
   "source": [
    "pessoas_idades['ana'] = 1"
   ]
  },
  {
   "cell_type": "code",
   "execution_count": 17,
   "metadata": {},
   "outputs": [],
   "source": [
    "pessoas_idades['ana'] = 3"
   ]
  },
  {
   "cell_type": "code",
   "execution_count": 23,
   "metadata": {},
   "outputs": [
    {
     "data": {
      "text/plain": [
       "{'joana': 27, 'pedro': 30, 'carlota': 50, 'ana': 3}"
      ]
     },
     "execution_count": 23,
     "metadata": {},
     "output_type": "execute_result"
    }
   ],
   "source": [
    "pessoas_idades"
   ]
  },
  {
   "cell_type": "code",
   "execution_count": 24,
   "metadata": {},
   "outputs": [
    {
     "data": {
      "text/plain": [
       "110"
      ]
     },
     "execution_count": 24,
     "metadata": {},
     "output_type": "execute_result"
    }
   ],
   "source": [
    "soma=0\n",
    "for idade in pessoas_idades.values():\n",
    "    soma += idade\n",
    "soma"
   ]
  },
  {
   "cell_type": "code",
   "execution_count": 26,
   "metadata": {},
   "outputs": [
    {
     "data": {
      "text/plain": [
       "',joana,pedro,carlota,ana'"
      ]
     },
     "execution_count": 26,
     "metadata": {},
     "output_type": "execute_result"
    }
   ],
   "source": [
    "nomes=''\n",
    "for nome in pessoas_idades.keys():\n",
    "    nomes += ',' + nome\n",
    "nomes"
   ]
  },
  {
   "cell_type": "markdown",
   "metadata": {},
   "source": [
    "* queremos um dicionario com as pessoas (nas keys) e o ano de nascimento (nos values)\n",
    "* e.g.: {'joana': 1995, ...}"
   ]
  },
  {
   "cell_type": "code",
   "execution_count": 27,
   "metadata": {},
   "outputs": [
    {
     "data": {
      "text/plain": [
       "dict_items([('joana', 27), ('pedro', 30), ('carlota', 50), ('ana', 3)])"
      ]
     },
     "execution_count": 27,
     "metadata": {},
     "output_type": "execute_result"
    }
   ],
   "source": [
    "pessoas_idades.items()"
   ]
  },
  {
   "cell_type": "code",
   "execution_count": 44,
   "metadata": {},
   "outputs": [],
   "source": [
    "pessoas_datas = {}\n",
    "for pessoa, idade in pessoas_idades.items():\n",
    "    pessoas_datas[pessoa] = 2022 - idade"
   ]
  },
  {
   "cell_type": "code",
   "execution_count": 45,
   "metadata": {},
   "outputs": [
    {
     "data": {
      "text/plain": [
       "{'joana': 1995, 'pedro': 1992, 'carlota': 1972, 'ana': 2019}"
      ]
     },
     "execution_count": 45,
     "metadata": {},
     "output_type": "execute_result"
    }
   ],
   "source": [
    "pessoas_datas"
   ]
  },
  {
   "cell_type": "code",
   "execution_count": 18,
   "metadata": {},
   "outputs": [],
   "source": [
    "d = {}\n",
    "for i in range(10):\n",
    "    d[str(i)] = i + 10"
   ]
  },
  {
   "cell_type": "code",
   "execution_count": 20,
   "metadata": {},
   "outputs": [
    {
     "data": {
      "text/plain": [
       "dict_keys(['0', '1', '2', '3', '4', '5', '6', '7', '8', '9'])"
      ]
     },
     "execution_count": 20,
     "metadata": {},
     "output_type": "execute_result"
    }
   ],
   "source": [
    "d.keys()"
   ]
  },
  {
   "cell_type": "code",
   "execution_count": 21,
   "metadata": {},
   "outputs": [
    {
     "data": {
      "text/plain": [
       "dict_values([10, 11, 12, 13, 14, 15, 16, 17, 18, 19])"
      ]
     },
     "execution_count": 21,
     "metadata": {},
     "output_type": "execute_result"
    }
   ],
   "source": [
    "d.values()"
   ]
  },
  {
   "cell_type": "code",
   "execution_count": 22,
   "metadata": {},
   "outputs": [
    {
     "data": {
      "text/plain": [
       "dict_items([('0', 10), ('1', 11), ('2', 12), ('3', 13), ('4', 14), ('5', 15), ('6', 16), ('7', 17), ('8', 18), ('9', 19)])"
      ]
     },
     "execution_count": 22,
     "metadata": {},
     "output_type": "execute_result"
    }
   ],
   "source": [
    "d.items()"
   ]
  },
  {
   "cell_type": "code",
   "execution_count": 33,
   "metadata": {},
   "outputs": [],
   "source": [
    "\n",
    "l = ['a', 'b', 'c']\n",
    "t = tuple(l)"
   ]
  },
  {
   "cell_type": "code",
   "execution_count": 36,
   "metadata": {},
   "outputs": [
    {
     "data": {
      "text/plain": [
       "[(0, 'a'),\n",
       " (1, 'b'),\n",
       " (2, 'r'),\n",
       " (3, 'a'),\n",
       " (4, 'c'),\n",
       " (5, 'a'),\n",
       " (6, 'd'),\n",
       " (7, 'a'),\n",
       " (8, 'b'),\n",
       " (9, 'r'),\n",
       " (10, 'a')]"
      ]
     },
     "execution_count": 36,
     "metadata": {},
     "output_type": "execute_result"
    }
   ],
   "source": [
    "list(enumerate('abracadabra'))"
   ]
  },
  {
   "cell_type": "code",
   "execution_count": 42,
   "metadata": {},
   "outputs": [
    {
     "name": "stdout",
     "output_type": "stream",
     "text": [
      "On position 0 there is element a\n",
      "On position 1 there is element b\n",
      "On position 2 there is element c\n"
     ]
    }
   ],
   "source": [
    "for i, elem in enumerate(l):\n",
    "    print(f\"On position {i} there is element {elem}\")"
   ]
  }
 ],
 "metadata": {
  "kernelspec": {
   "display_name": "Python 3.9.7 64-bit",
   "language": "python",
   "name": "python3"
  },
  "language_info": {
   "codemirror_mode": {
    "name": "ipython",
    "version": 3
   },
   "file_extension": ".py",
   "mimetype": "text/x-python",
   "name": "python",
   "nbconvert_exporter": "python",
   "pygments_lexer": "ipython3",
   "version": "3.9.7"
  },
  "orig_nbformat": 4,
  "vscode": {
   "interpreter": {
    "hash": "7e6a089de199c6e93d325fc890859f1b04b08dd990effa2938207bcdc1d9a8be"
   }
  }
 },
 "nbformat": 4,
 "nbformat_minor": 2
}
